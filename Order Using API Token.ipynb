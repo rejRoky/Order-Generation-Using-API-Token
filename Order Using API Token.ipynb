{
 "cells": [
  {
   "cell_type": "code",
   "execution_count": null,
   "id": "c3965b4c",
   "metadata": {},
   "outputs": [],
   "source": [
    "import pandas as pd\n"
   ]
  },
  {
   "cell_type": "code",
   "execution_count": null,
   "id": "a215a71b",
   "metadata": {},
   "outputs": [],
   "source": [
    "output_data = pd.read_excel('output.xlsx')\n",
    "output_data"
   ]
  },
  {
   "cell_type": "code",
   "execution_count": null,
   "id": "d8d48c39",
   "metadata": {},
   "outputs": [],
   "source": [
    "sum(output_data['Order Quantity'])"
   ]
  },
  {
   "cell_type": "code",
   "execution_count": null,
   "id": "01e4a609",
   "metadata": {},
   "outputs": [],
   "source": [
    "customer_name = output_data['Customer Name']\n",
    "customer_contact = output_data['Contact']\n",
    "customer_address = output_data['Customer Address']\n",
    "order_items = output_data['Order Items']\n",
    "order_quantity = output_data['Order Quantity']\n",
    "order_date = output_data['Order Date']\n",
    "order_time = output_data['Order Time']"
   ]
  },
  {
   "cell_type": "code",
   "execution_count": null,
   "id": "953f1159",
   "metadata": {},
   "outputs": [],
   "source": [
    "customer_name = list(customer_name)\n",
    "customer_contact = list(customer_contact)\n",
    "customer_address = list(customer_address)\n",
    "order_items = list(order_items)\n",
    "order_date = list(order_date)\n",
    "order_time = list(order_time)\n",
    "order_quantity = list(order_quantity)"
   ]
  },
  {
   "cell_type": "code",
   "execution_count": null,
   "id": "616ee9fa",
   "metadata": {},
   "outputs": [],
   "source": [
    "order_times = []\n",
    "for time in order_time:\n",
    "    order_times.append(time.split(' ')[0])\n",
    "\n",
    "order_times"
   ]
  },
  {
   "cell_type": "code",
   "execution_count": null,
   "id": "2642b052",
   "metadata": {},
   "outputs": [],
   "source": [
    "order_dates = []\n",
    "for date in order_date:\n",
    "    order_d = date.split('/')\n",
    "    order_dates.append(order_d[2]+'-'+order_d[1]+'-'+order_d[0])\n",
    "\n",
    "order_dates"
   ]
  },
  {
   "cell_type": "code",
   "execution_count": null,
   "id": "4e6c781b",
   "metadata": {},
   "outputs": [],
   "source": [
    "date_created = []\n",
    "for i in range (len(order_dates)):\n",
    "    date_created.append(order_dates[i]+'T'+order_times[i])\n",
    "date_created"
   ]
  },
  {
   "cell_type": "code",
   "execution_count": null,
   "id": "84c14593",
   "metadata": {},
   "outputs": [],
   "source": [
    "order_items\n",
    "\n",
    "item_list = pd.read_csv('clock list.csv')\n",
    "\n",
    "item_id = list (item_list['ID'])\n",
    "item_sku = list (item_list['SKU'])\n",
    "items = dict (zip(item_sku,item_id))\n",
    "\n",
    "\n",
    "item_index_no = []\n",
    "for index in range(len(order_items)):\n",
    "    if order_items[index] in item_sku:\n",
    "        item_index_no.append(items[order_items[index]])\n",
    "item_index_no"
   ]
  },
  {
   "cell_type": "code",
   "execution_count": null,
   "id": "6896c4f4",
   "metadata": {},
   "outputs": [],
   "source": [
    "customer_name\n",
    "customer_email = []\n",
    "for email in customer_name:\n",
    "    email = email.strip()\n",
    "    email = email.replace(' ','.')\n",
    "    email = email.replace('..','.')\n",
    "    email = email.replace('..','.') + '@gmail.com'\n",
    "    customer_email.append(email.lower())\n",
    "customer_email"
   ]
  },
  {
   "cell_type": "code",
   "execution_count": null,
   "id": "1b05d5ad",
   "metadata": {},
   "outputs": [],
   "source": [
    "from datetime import datetime\n",
    "import requests\n",
    "import json\n",
    "\n",
    "wordpress_url = 'https://'\n",
    "consumer_key = ''\n",
    "consumer_secret = ''\n",
    "api_endpoint = f'{wordpress_url}/wp-json/wc/v3/orders'"
   ]
  },
  {
   "cell_type": "code",
   "execution_count": null,
   "id": "68a1c5ca",
   "metadata": {},
   "outputs": [],
   "source": [
    "for order in range(len(customer_name)):\n",
    "    order_data = {\n",
    "        'payment_method': 'bacs',\n",
    "        'payment_method_title': 'Bank Transfer',\n",
    "        'set_paid': True,\n",
    "        'billing': {\n",
    "            'first_name': customer_name[order],\n",
    "            'last_name': '',\n",
    "            'address_1': customer_address[order],\n",
    "            'city': '',\n",
    "            'state': '',\n",
    "            'postcode': '',\n",
    "            'country': 'BD',\n",
    "            'email': 'guest@deshicrafts.com',\n",
    "            'phone': '+880'+ str(customer_contact[order])\n",
    "        },\n",
    "        'shipping': {\n",
    "            'first_name': customer_name[order],\n",
    "            'last_name': '',\n",
    "            'address_1': customer_address[order],\n",
    "            'city': '',\n",
    "            'state': '',\n",
    "            'postcode': '',\n",
    "            'country': 'BD',\n",
    "            'phone': '+880'+ str(customer_contact[order])\n",
    "        },\n",
    "        'line_items': [\n",
    "            {\n",
    "                'product_id': item_index_no[order],\n",
    "                'quantity': order_quantity[order]\n",
    "            }\n",
    "        ],\n",
    "         'date_created': '2021-01-12T12:00:00',\n",
    "    }\n",
    "    \n",
    "\n",
    "    order_data[\"date_created\"] = datetime.strptime(order_data[\"date_created\"], \"%Y-%m-%dT%H:%M:%S\").isoformat()\n",
    "    auth = requests.auth.HTTPBasicAuth(consumer_key, consumer_secret)\n",
    "    \n",
    "    response = requests.post(api_endpoint, auth=auth, headers={'Content-Type': 'application/json'}, data=json.dumps(order_data))\n",
    "\n",
    "    if response.status_code == 201:\n",
    "        print(f\"Order created successfully. Order ID: {response.json()['id']}\")\n",
    "    else:\n",
    "        print(f\"Failed to create order. Status code: {response.status_code}, Response: {response.text}\")\n"
   ]
  }
 ],
 "metadata": {
  "kernelspec": {
   "display_name": "Python 3 (ipykernel)",
   "language": "python",
   "name": "python3"
  },
  "language_info": {
   "codemirror_mode": {
    "name": "ipython",
    "version": 3
   },
   "file_extension": ".py",
   "mimetype": "text/x-python",
   "name": "python",
   "nbconvert_exporter": "python",
   "pygments_lexer": "ipython3",
   "version": "3.11.5"
  }
 },
 "nbformat": 4,
 "nbformat_minor": 5
}
